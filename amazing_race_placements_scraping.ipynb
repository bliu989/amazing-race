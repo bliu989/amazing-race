{
 "cells": [
  {
   "cell_type": "code",
   "execution_count": 1,
   "metadata": {},
   "outputs": [],
   "source": [
    "from bs4 import BeautifulSoup as bs\n",
    "import requests\n",
    "import re\n",
    "import pandas as pd\n",
    "import numpy as np\n",
    "import os"
   ]
  },
  {
   "cell_type": "code",
   "execution_count": 34,
   "metadata": {},
   "outputs": [],
   "source": [
    "# scrape main wiki page for The Amazing Race US\n",
    "url = \"https://amazingrace.fandom.com/wiki/The_Amazing_Race_(US)\"\n",
    "req = requests.get(url)\n",
    "soup = bs(req.content, 'html.parser')"
   ]
  },
  {
   "cell_type": "code",
   "execution_count": 35,
   "metadata": {},
   "outputs": [],
   "source": [
    "# get the ends of the urls for each of the US seasons using the table at the bottom of the page\n",
    "seasons_table = soup.find('table', class_=lambda s:s.startswith(\"wikitable mw-collapsible\"))\n",
    "season_url_tails = [t['href'] for t in seasons_table.td.find_all('a')]"
   ]
  },
  {
   "cell_type": "code",
   "execution_count": 36,
   "metadata": {},
   "outputs": [],
   "source": [
    "teams = []\n",
    "leg_rankings = [[] for _ in range(13)]"
   ]
  },
  {
   "cell_type": "code",
   "execution_count": 37,
   "metadata": {},
   "outputs": [],
   "source": [
    "season_url_head = \"https://amazingrace.fandom.com\"\n",
    "\n",
    "dfs = []\n",
    "for season_url_tail in season_url_tails:\n",
    "    season_url = season_url_head + season_url_tail\n",
    "    req = requests.get(season_url)\n",
    "    soup = bs(req.content, 'html.parser')\n",
    "\n",
    "    # get the leaderboard table for a specific season\n",
    "    leaderboard_table = soup.find_all('table', attrs={'class' : 'wikitable', \n",
    "                                                    'style' : \"margin:auto; text-align:center; font-size: 8pt; line-height:18px;\"})[1]\n",
    "    df = pd.read_html(str(leaderboard_table))[0]\n",
    "\n",
    "\n",
    "    if type(df.columns) == pd.core.indexes.multi.MultiIndex:  # fixing tables with multiple column headers\n",
    "        df.columns = ['_'.join(col) for col in df.columns]\n",
    "    elif type(df.columns[0]) == np.int64:  # fixing tables with an extra header row\n",
    "        df.columns = df.iloc[0]\n",
    "        df = df.drop(np.nan, axis=1)\n",
    "\n",
    "    # keep only rows corresponding to each team\n",
    "    df = df[df.iloc[:,0].apply(lambda s: s.isnumeric())]\n",
    "\n",
    "    # keep only columns with season placement, team members, and leg placements\n",
    "    relavant_cols = [s for s in df.columns if s[0] in ['P', 'T', 'L']]  \n",
    "    df = df[relavant_cols]\n",
    "\n",
    "    dfs.append(df)"
   ]
  },
  {
   "cell_type": "code",
   "execution_count": 38,
   "metadata": {},
   "outputs": [],
   "source": [
    "num_seasons = len(dfs)\n",
    "for i in range(num_seasons):\n",
    "    df = dfs[i]\n",
    "\n",
    "    # standardize column names to prepare for concatinating the dataframes\n",
    "    num_cols = len(df.columns)\n",
    "    col_names = ['Place', 'Team']\n",
    "    col_names.extend([f'Leg {i}' for i in range(1, num_cols-1)])\n",
    "    df.columns = col_names\n",
    "\n",
    "    # add in season number and number of teams for that season\n",
    "    num_teams = len(df)\n",
    "    df['Season'] = (i+1) * np.ones(num_teams)\n",
    "    df['Number of teams'] = num_teams * np.ones(num_teams)"
   ]
  },
  {
   "cell_type": "code",
   "execution_count": 39,
   "metadata": {},
   "outputs": [],
   "source": [
    "df = pd.concat(dfs, ignore_index=True)"
   ]
  },
  {
   "cell_type": "code",
   "execution_count": 40,
   "metadata": {},
   "outputs": [],
   "source": [
    "df = df.replace({\"Dis\": np.nan})"
   ]
  },
  {
   "cell_type": "code",
   "execution_count": 41,
   "metadata": {},
   "outputs": [],
   "source": [
    "def get_numeric(x):\n",
    "    if type(x) == float:\n",
    "        return np.nan\n",
    "    else:\n",
    "        return re.findall('\\d+', x)[0]\n",
    "\n",
    "for col in df.columns:\n",
    "    if col.startswith(\"Leg\"):\n",
    "        df[col] = df[col].apply(get_numeric)"
   ]
  },
  {
   "cell_type": "code",
   "execution_count": 42,
   "metadata": {},
   "outputs": [],
   "source": [
    "df['Season'] = df['Season'].astype(int)\n",
    "df['Number of teams'] = df['Number of teams'].astype(int)"
   ]
  },
  {
   "cell_type": "code",
   "execution_count": 46,
   "metadata": {},
   "outputs": [],
   "source": [
    "os.mkdir('data')\n",
    "df.to_csv('data/placements.csv', index=False)"
   ]
  },
  {
   "cell_type": "code",
   "execution_count": 3,
   "metadata": {},
   "outputs": [],
   "source": [
    "df = pd.read_csv('data/placements.csv')"
   ]
  },
  {
   "cell_type": "code",
   "execution_count": 7,
   "metadata": {},
   "outputs": [],
   "source": [
    "leg_cols = [c for c in df.columns if c[0] == 'L']"
   ]
  },
  {
   "cell_type": "code",
   "execution_count": 8,
   "metadata": {},
   "outputs": [],
   "source": [
    "for leg_col in leg_cols:\n",
    "    df[f'{leg_col} normalized'] = df[leg_col]/df['Number of teams']"
   ]
  },
  {
   "cell_type": "code",
   "execution_count": 11,
   "metadata": {},
   "outputs": [],
   "source": [
    "df['Place normalized'] = df['Place']/df['Number of teams']"
   ]
  },
  {
   "cell_type": "code",
   "execution_count": 29,
   "metadata": {},
   "outputs": [],
   "source": [
    "np.random.seed(20)\n",
    "season_shuffle = np.random.permutation(np.arange(1,36))"
   ]
  },
  {
   "cell_type": "code",
   "execution_count": 33,
   "metadata": {},
   "outputs": [],
   "source": [
    "df_test = df[df['Season'].isin(season_shuffle[0:7])]\n",
    "df_valid = df[df['Season'].isin(season_shuffle[8:14])]\n",
    "df_train = df[df['Season'].isin(season_shuffle[15:])]"
   ]
  },
  {
   "cell_type": "code",
   "execution_count": 34,
   "metadata": {},
   "outputs": [
    {
     "data": {
      "text/plain": [
       "array([ 1,  3,  7,  8,  9, 10, 12, 16, 17, 19, 20, 21, 23, 27, 29, 30, 31,\n",
       "       32, 33, 35], dtype=int64)"
      ]
     },
     "execution_count": 34,
     "metadata": {},
     "output_type": "execute_result"
    }
   ],
   "source": [
    "df_train['Season'].unique()"
   ]
  }
 ],
 "metadata": {
  "kernelspec": {
   "display_name": "py27",
   "language": "python",
   "name": "python3"
  },
  "language_info": {
   "codemirror_mode": {
    "name": "ipython",
    "version": 3
   },
   "file_extension": ".py",
   "mimetype": "text/x-python",
   "name": "python",
   "nbconvert_exporter": "python",
   "pygments_lexer": "ipython3",
   "version": "3.10.4"
  }
 },
 "nbformat": 4,
 "nbformat_minor": 2
}
